{
 "cells": [
  {
   "cell_type": "code",
   "id": "initial_id",
   "metadata": {
    "collapsed": true,
    "ExecuteTime": {
     "end_time": "2025-04-21T00:17:26.015817Z",
     "start_time": "2025-04-21T00:17:25.991370Z"
    }
   },
   "source": [
    "import numpy as np\n",
    "import torch\n",
    "import matplotlib.pylab as plt\n",
    "import torch.nn as nn"
   ],
   "outputs": [],
   "execution_count": 10
  },
  {
   "metadata": {
    "ExecuteTime": {
     "end_time": "2025-04-21T00:17:48.634134Z",
     "start_time": "2025-04-21T00:17:48.625243Z"
    }
   },
   "cell_type": "code",
   "source": [
    "class Model(nn.Module):\n",
    "    def __init__(self, in_features, out_features):\n",
    "        super().__init__()\n",
    "        self.linear = nn.Linear(in_features, out_features)\n",
    "\n",
    "    def forward(self, x):\n",
    "        y_pred = self.linear(x)\n",
    "        return y_pred"
   ],
   "id": "a233e474563c17d8",
   "outputs": [],
   "execution_count": 12
  },
  {
   "metadata": {
    "ExecuteTime": {
     "end_time": "2025-04-21T00:17:49.819367Z",
     "start_time": "2025-04-21T00:17:49.808050Z"
    }
   },
   "cell_type": "code",
   "source": [
    "torch.manual_seed(59)\n",
    "model = Model(1,1)\n",
    "print(model)\n",
    "print('Weight:', model.linear.weight)\n",
    "print('Bias:', model.linear.bias)"
   ],
   "id": "966c7b4314b92b51",
   "outputs": [
    {
     "name": "stdout",
     "output_type": "stream",
     "text": [
      "Model(\n",
      "  (linear): Linear(in_features=1, out_features=1, bias=True)\n",
      ")\n",
      "Weight: Parameter containing:\n",
      "tensor([[0.1060]], requires_grad=True)\n",
      "Bias: Parameter containing:\n",
      "tensor([0.9638], requires_grad=True)\n"
     ]
    }
   ],
   "execution_count": 13
  },
  {
   "metadata": {
    "ExecuteTime": {
     "end_time": "2025-04-21T00:17:50.337482Z",
     "start_time": "2025-04-21T00:17:50.330640Z"
    }
   },
   "cell_type": "code",
   "source": [
    "for name, param in model.named_parameters():\n",
    "    print(name, '\\t', param.item())"
   ],
   "id": "f123c6256eae7350",
   "outputs": [
    {
     "name": "stdout",
     "output_type": "stream",
     "text": [
      "linear.weight \t 0.10597813129425049\n",
      "linear.bias \t 0.9637961387634277\n"
     ]
    }
   ],
   "execution_count": 14
  },
  {
   "metadata": {
    "ExecuteTime": {
     "end_time": "2025-04-21T00:17:50.816689Z",
     "start_time": "2025-04-21T00:17:50.802562Z"
    }
   },
   "cell_type": "code",
   "source": [
    "x = torch.tensor([2.0])\n",
    "print(model.forward(x))"
   ],
   "id": "ee2696317ad70199",
   "outputs": [
    {
     "name": "stdout",
     "output_type": "stream",
     "text": [
      "tensor([1.1758], grad_fn=<ViewBackward0>)\n"
     ]
    }
   ],
   "execution_count": 15
  },
  {
   "metadata": {
    "ExecuteTime": {
     "end_time": "2025-04-21T00:17:51.475853Z",
     "start_time": "2025-04-21T00:17:51.469367Z"
    }
   },
   "cell_type": "code",
   "source": [
    "X = np.linspace(1, 50, 50).reshape(-1,1)\n",
    "X1 = np.array([X.min(), X.max()])\n",
    "print(X1)"
   ],
   "id": "f2278f762bd239d9",
   "outputs": [
    {
     "name": "stdout",
     "output_type": "stream",
     "text": [
      "[ 1. 50.]\n"
     ]
    }
   ],
   "execution_count": 16
  },
  {
   "metadata": {
    "ExecuteTime": {
     "end_time": "2025-04-21T00:17:52.176421Z",
     "start_time": "2025-04-21T00:17:52.171097Z"
    }
   },
   "cell_type": "code",
   "source": [
    "w1, b1 = model.linear.weight.item(), model.linear.bias.item()\n",
    "print(f'Initial Weight:, {w1: 8f}, Initial bias: {b1: 8f}')\n",
    "print()"
   ],
   "id": "4e095732f57242c4",
   "outputs": [
    {
     "name": "stdout",
     "output_type": "stream",
     "text": [
      "Initial Weight:,  0.105978, Initial bias:  0.963796\n",
      "\n"
     ]
    }
   ],
   "execution_count": 17
  },
  {
   "metadata": {
    "ExecuteTime": {
     "end_time": "2025-04-21T00:17:52.768550Z",
     "start_time": "2025-04-21T00:17:52.765685Z"
    }
   },
   "cell_type": "code",
   "source": "",
   "id": "a295be5d47e62775",
   "outputs": [],
   "execution_count": null
  },
  {
   "metadata": {},
   "cell_type": "code",
   "outputs": [],
   "execution_count": null,
   "source": "",
   "id": "d23c764311f36a32"
  }
 ],
 "metadata": {
  "kernelspec": {
   "display_name": "Python 3",
   "language": "python",
   "name": "python3"
  },
  "language_info": {
   "codemirror_mode": {
    "name": "ipython",
    "version": 2
   },
   "file_extension": ".py",
   "mimetype": "text/x-python",
   "name": "python",
   "nbconvert_exporter": "python",
   "pygments_lexer": "ipython2",
   "version": "2.7.6"
  }
 },
 "nbformat": 4,
 "nbformat_minor": 5
}
