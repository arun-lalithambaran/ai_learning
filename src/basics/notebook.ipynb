{
 "cells": [
  {
   "metadata": {
    "ExecuteTime": {
     "end_time": "2025-04-15T23:30:23.765386Z",
     "start_time": "2025-04-15T23:30:08.240334Z"
    }
   },
   "cell_type": "code",
   "source": "import torch",
   "id": "9ebe0ce8329cb600",
   "outputs": [],
   "execution_count": 3
  },
  {
   "metadata": {
    "ExecuteTime": {
     "end_time": "2025-04-15T23:31:21.401112Z",
     "start_time": "2025-04-15T23:31:21.397192Z"
    }
   },
   "cell_type": "code",
   "source": "x = torch.tensor(2.0, requires_grad=True)",
   "id": "8983452b8cc8061c",
   "outputs": [],
   "execution_count": 4
  },
  {
   "metadata": {
    "ExecuteTime": {
     "end_time": "2025-04-15T23:32:23.480781Z",
     "start_time": "2025-04-15T23:32:23.475911Z"
    }
   },
   "cell_type": "code",
   "source": "y = 2*x**4+x**3+3*x**2+5*x+1",
   "id": "f1fc14a566fc0ff0",
   "outputs": [],
   "execution_count": 5
  },
  {
   "metadata": {
    "ExecuteTime": {
     "end_time": "2025-04-15T23:32:34.107493Z",
     "start_time": "2025-04-15T23:32:34.103700Z"
    }
   },
   "cell_type": "code",
   "source": "print(y)",
   "id": "3e348ca70a89249e",
   "outputs": [
    {
     "name": "stdout",
     "output_type": "stream",
     "text": [
      "tensor(63., grad_fn=<AddBackward0>)\n"
     ]
    }
   ],
   "execution_count": 6
  },
  {
   "metadata": {
    "ExecuteTime": {
     "end_time": "2025-04-15T23:32:59.116281Z",
     "start_time": "2025-04-15T23:32:59.108404Z"
    }
   },
   "cell_type": "code",
   "source": "type(y)",
   "id": "1578a043871c255",
   "outputs": [
    {
     "data": {
      "text/plain": [
       "torch.Tensor"
      ]
     },
     "execution_count": 7,
     "metadata": {},
     "output_type": "execute_result"
    }
   ],
   "execution_count": 7
  },
  {
   "metadata": {
    "ExecuteTime": {
     "end_time": "2025-04-15T23:33:06.472629Z",
     "start_time": "2025-04-15T23:33:06.468971Z"
    }
   },
   "cell_type": "code",
   "source": "y.backward()",
   "id": "3b878e6077fe7074",
   "outputs": [],
   "execution_count": 8
  },
  {
   "metadata": {
    "ExecuteTime": {
     "end_time": "2025-04-15T23:33:20.290646Z",
     "start_time": "2025-04-15T23:33:20.285881Z"
    }
   },
   "cell_type": "code",
   "source": "x.grad",
   "id": "fc4ae093b6241785",
   "outputs": [
    {
     "data": {
      "text/plain": [
       "tensor(93.)"
      ]
     },
     "execution_count": 9,
     "metadata": {},
     "output_type": "execute_result"
    }
   ],
   "execution_count": 9
  },
  {
   "metadata": {
    "ExecuteTime": {
     "end_time": "2025-04-15T23:36:14.785207Z",
     "start_time": "2025-04-15T23:36:14.781259Z"
    }
   },
   "cell_type": "code",
   "source": "x = torch.tensor([[1.,2.,3.],[3.,2.,1.]], requires_grad=True)",
   "id": "42e031e69d6d7024",
   "outputs": [],
   "execution_count": 11
  },
  {
   "metadata": {
    "ExecuteTime": {
     "end_time": "2025-04-15T23:36:21.186539Z",
     "start_time": "2025-04-15T23:36:21.182698Z"
    }
   },
   "cell_type": "code",
   "source": "print(x)",
   "id": "d72ce50d8761ab1d",
   "outputs": [
    {
     "name": "stdout",
     "output_type": "stream",
     "text": [
      "tensor([[1., 2., 3.],\n",
      "        [3., 2., 1.]], requires_grad=True)\n"
     ]
    }
   ],
   "execution_count": 12
  },
  {
   "metadata": {
    "ExecuteTime": {
     "end_time": "2025-04-15T23:36:54.305504Z",
     "start_time": "2025-04-15T23:36:54.302202Z"
    }
   },
   "cell_type": "code",
   "source": "y = 3 * x + 2",
   "id": "c3ba1cfe9a29707a",
   "outputs": [],
   "execution_count": 13
  },
  {
   "metadata": {
    "ExecuteTime": {
     "end_time": "2025-04-15T23:37:07.149083Z",
     "start_time": "2025-04-15T23:37:07.145177Z"
    }
   },
   "cell_type": "code",
   "source": "print(y)",
   "id": "2e51b15431936e94",
   "outputs": [
    {
     "name": "stdout",
     "output_type": "stream",
     "text": [
      "tensor([[ 5.,  8., 11.],\n",
      "        [11.,  8.,  5.]], grad_fn=<AddBackward0>)\n"
     ]
    }
   ],
   "execution_count": 14
  },
  {
   "metadata": {
    "ExecuteTime": {
     "end_time": "2025-04-15T23:38:05.585195Z",
     "start_time": "2025-04-15T23:38:05.580406Z"
    }
   },
   "cell_type": "code",
   "source": "z = 2 * y**2",
   "id": "6046cde66117ba2b",
   "outputs": [],
   "execution_count": 15
  },
  {
   "metadata": {
    "ExecuteTime": {
     "end_time": "2025-04-15T23:38:16.085253Z",
     "start_time": "2025-04-15T23:38:16.081331Z"
    }
   },
   "cell_type": "code",
   "source": "print(z)",
   "id": "4156a7e1efa0ff72",
   "outputs": [
    {
     "name": "stdout",
     "output_type": "stream",
     "text": [
      "tensor([[ 50., 128., 242.],\n",
      "        [242., 128.,  50.]], grad_fn=<MulBackward0>)\n"
     ]
    }
   ],
   "execution_count": 16
  },
  {
   "metadata": {
    "ExecuteTime": {
     "end_time": "2025-04-15T23:38:50.112660Z",
     "start_time": "2025-04-15T23:38:50.109256Z"
    }
   },
   "cell_type": "code",
   "source": "out = z.mean()",
   "id": "72881720fef6f2b6",
   "outputs": [],
   "execution_count": 17
  },
  {
   "metadata": {
    "ExecuteTime": {
     "end_time": "2025-04-15T23:38:54.505854Z",
     "start_time": "2025-04-15T23:38:54.501085Z"
    }
   },
   "cell_type": "code",
   "source": "print(out)",
   "id": "8e83de0cd2f2d763",
   "outputs": [
    {
     "name": "stdout",
     "output_type": "stream",
     "text": [
      "tensor(140., grad_fn=<MeanBackward0>)\n"
     ]
    }
   ],
   "execution_count": 18
  },
  {
   "metadata": {
    "ExecuteTime": {
     "end_time": "2025-04-15T23:39:29.868240Z",
     "start_time": "2025-04-15T23:39:29.864296Z"
    }
   },
   "cell_type": "code",
   "source": "out.backward()",
   "id": "32eee90c8032d615",
   "outputs": [],
   "execution_count": 19
  },
  {
   "metadata": {
    "ExecuteTime": {
     "end_time": "2025-04-15T23:43:57.129840Z",
     "start_time": "2025-04-15T23:43:57.125130Z"
    }
   },
   "cell_type": "code",
   "source": "print(x.grad)",
   "id": "3d9455386d7a7077",
   "outputs": [
    {
     "name": "stdout",
     "output_type": "stream",
     "text": [
      "tensor([[10., 16., 22.],\n",
      "        [22., 16., 10.]])\n"
     ]
    }
   ],
   "execution_count": 23
  },
  {
   "metadata": {},
   "cell_type": "code",
   "outputs": [],
   "execution_count": null,
   "source": "",
   "id": "96981a19f30e063b"
  }
 ],
 "metadata": {
  "kernelspec": {
   "display_name": "Python 3",
   "language": "python",
   "name": "python3"
  },
  "language_info": {
   "codemirror_mode": {
    "name": "ipython",
    "version": 2
   },
   "file_extension": ".py",
   "mimetype": "text/x-python",
   "name": "python",
   "nbconvert_exporter": "python",
   "pygments_lexer": "ipython2",
   "version": "2.7.6"
  }
 },
 "nbformat": 4,
 "nbformat_minor": 5
}
