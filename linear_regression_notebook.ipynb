{
 "cells": [
  {
   "cell_type": "code",
   "id": "initial_id",
   "metadata": {
    "collapsed": true,
    "ExecuteTime": {
     "end_time": "2025-04-16T21:14:20.178444Z",
     "start_time": "2025-04-16T21:14:20.173586Z"
    }
   },
   "source": [
    "from platform import python_revision\n",
    "\n",
    "import torch\n",
    "import numpy as np\n",
    "import matplotlib.pyplot as plt"
   ],
   "outputs": [],
   "execution_count": 97
  },
  {
   "metadata": {
    "ExecuteTime": {
     "end_time": "2025-04-16T21:14:20.197293Z",
     "start_time": "2025-04-16T21:14:20.193637Z"
    }
   },
   "cell_type": "code",
   "source": "import torch.nn as nn",
   "id": "f3898f7d28f883dd",
   "outputs": [],
   "execution_count": 98
  },
  {
   "metadata": {
    "ExecuteTime": {
     "end_time": "2025-04-16T21:14:20.225492Z",
     "start_time": "2025-04-16T21:14:20.221908Z"
    }
   },
   "cell_type": "code",
   "source": "X = torch.linspace(1,50,50).reshape(-1,1)",
   "id": "f5dba98ac1262057",
   "outputs": [],
   "execution_count": 99
  },
  {
   "metadata": {
    "ExecuteTime": {
     "end_time": "2025-04-16T21:14:20.278462Z",
     "start_time": "2025-04-16T21:14:20.270063Z"
    }
   },
   "cell_type": "code",
   "source": "X",
   "id": "a1ede52e269db3cd",
   "outputs": [
    {
     "data": {
      "text/plain": [
       "tensor([[ 1.],\n",
       "        [ 2.],\n",
       "        [ 3.],\n",
       "        [ 4.],\n",
       "        [ 5.],\n",
       "        [ 6.],\n",
       "        [ 7.],\n",
       "        [ 8.],\n",
       "        [ 9.],\n",
       "        [10.],\n",
       "        [11.],\n",
       "        [12.],\n",
       "        [13.],\n",
       "        [14.],\n",
       "        [15.],\n",
       "        [16.],\n",
       "        [17.],\n",
       "        [18.],\n",
       "        [19.],\n",
       "        [20.],\n",
       "        [21.],\n",
       "        [22.],\n",
       "        [23.],\n",
       "        [24.],\n",
       "        [25.],\n",
       "        [26.],\n",
       "        [27.],\n",
       "        [28.],\n",
       "        [29.],\n",
       "        [30.],\n",
       "        [31.],\n",
       "        [32.],\n",
       "        [33.],\n",
       "        [34.],\n",
       "        [35.],\n",
       "        [36.],\n",
       "        [37.],\n",
       "        [38.],\n",
       "        [39.],\n",
       "        [40.],\n",
       "        [41.],\n",
       "        [42.],\n",
       "        [43.],\n",
       "        [44.],\n",
       "        [45.],\n",
       "        [46.],\n",
       "        [47.],\n",
       "        [48.],\n",
       "        [49.],\n",
       "        [50.]])"
      ]
     },
     "execution_count": 100,
     "metadata": {},
     "output_type": "execute_result"
    }
   ],
   "execution_count": 100
  },
  {
   "metadata": {
    "ExecuteTime": {
     "end_time": "2025-04-16T21:14:20.344996Z",
     "start_time": "2025-04-16T21:14:20.336624Z"
    }
   },
   "cell_type": "code",
   "source": [
    "torch.manual_seed(71)\n",
    "e = torch.randint(-8,9,(50,1), dtype=torch.float)"
   ],
   "id": "63a71802260ade4d",
   "outputs": [],
   "execution_count": 101
  },
  {
   "metadata": {
    "ExecuteTime": {
     "end_time": "2025-04-16T21:14:20.417715Z",
     "start_time": "2025-04-16T21:14:20.409161Z"
    }
   },
   "cell_type": "code",
   "source": "e",
   "id": "6c6e405034ab2873",
   "outputs": [
    {
     "data": {
      "text/plain": [
       "tensor([[ 2.],\n",
       "        [ 7.],\n",
       "        [ 2.],\n",
       "        [ 6.],\n",
       "        [ 2.],\n",
       "        [-4.],\n",
       "        [ 2.],\n",
       "        [-5.],\n",
       "        [ 4.],\n",
       "        [ 1.],\n",
       "        [ 2.],\n",
       "        [ 3.],\n",
       "        [ 1.],\n",
       "        [-8.],\n",
       "        [ 5.],\n",
       "        [ 5.],\n",
       "        [-6.],\n",
       "        [ 0.],\n",
       "        [-7.],\n",
       "        [-8.],\n",
       "        [-3.],\n",
       "        [-1.],\n",
       "        [ 2.],\n",
       "        [-6.],\n",
       "        [-3.],\n",
       "        [ 3.],\n",
       "        [ 2.],\n",
       "        [ 3.],\n",
       "        [ 4.],\n",
       "        [ 5.],\n",
       "        [ 1.],\n",
       "        [ 7.],\n",
       "        [ 6.],\n",
       "        [-1.],\n",
       "        [-6.],\n",
       "        [-5.],\n",
       "        [-3.],\n",
       "        [ 7.],\n",
       "        [ 0.],\n",
       "        [ 8.],\n",
       "        [-1.],\n",
       "        [-2.],\n",
       "        [ 2.],\n",
       "        [-8.],\n",
       "        [-1.],\n",
       "        [ 6.],\n",
       "        [-8.],\n",
       "        [-3.],\n",
       "        [-7.],\n",
       "        [-2.]])"
      ]
     },
     "execution_count": 102,
     "metadata": {},
     "output_type": "execute_result"
    }
   ],
   "execution_count": 102
  },
  {
   "metadata": {
    "ExecuteTime": {
     "end_time": "2025-04-16T21:14:20.501667Z",
     "start_time": "2025-04-16T21:14:20.496915Z"
    }
   },
   "cell_type": "code",
   "source": "y = 2 * X + 1 + e",
   "id": "b2c2cf759de1846e",
   "outputs": [],
   "execution_count": 103
  },
  {
   "metadata": {
    "ExecuteTime": {
     "end_time": "2025-04-16T21:14:20.575818Z",
     "start_time": "2025-04-16T21:14:20.570814Z"
    }
   },
   "cell_type": "code",
   "source": "y.shape",
   "id": "1a4f7d94bb5e187c",
   "outputs": [
    {
     "data": {
      "text/plain": [
       "torch.Size([50, 1])"
      ]
     },
     "execution_count": 104,
     "metadata": {},
     "output_type": "execute_result"
    }
   ],
   "execution_count": 104
  },
  {
   "metadata": {
    "ExecuteTime": {
     "end_time": "2025-04-16T21:14:20.763772Z",
     "start_time": "2025-04-16T21:14:20.637099Z"
    }
   },
   "cell_type": "code",
   "source": "plt.scatter(X.numpy(), y.numpy())",
   "id": "8101999364c11cd6",
   "outputs": [
    {
     "data": {
      "text/plain": [
       "<matplotlib.collections.PathCollection at 0x24c1a169d10>"
      ]
     },
     "execution_count": 105,
     "metadata": {},
     "output_type": "execute_result"
    },
    {
     "data": {
      "text/plain": [
       "<Figure size 640x480 with 1 Axes>"
      ],
      "image/png": "[encoded data removed]"
     },
     "metadata": {},
     "output_type": "display_data"
    }
   ],
   "execution_count": 105
  },
  {
   "metadata": {
    "ExecuteTime": {
     "end_time": "2025-04-16T21:14:20.814876Z",
     "start_time": "2025-04-16T21:14:20.803582Z"
    }
   },
   "cell_type": "code",
   "source": [
    "torch.manual_seed(59)\n",
    "model = nn.Linear(in_features=1, out_features=1)\n",
    "print(model.weight)\n",
    "print(model.bias)"
   ],
   "id": "fc3b77d7fbb3c510",
   "outputs": [
    {
     "name": "stdout",
     "output_type": "stream",
     "text": [
      "Parameter containing:\n",
      "tensor([[0.1060]], requires_grad=True)\n",
      "Parameter containing:\n",
      "tensor([0.9638], requires_grad=True)\n"
     ]
    }
   ],
   "execution_count": 106
  },
  {
   "metadata": {
    "ExecuteTime": {
     "end_time": "2025-04-16T21:14:20.828087Z",
     "start_time": "2025-04-16T21:14:20.823502Z"
    }
   },
   "cell_type": "code",
   "source": [
    "class Model(nn.Module):\n",
    "    def __init__(self, in_features, out_features):\n",
    "        super().__init__()\n",
    "        self.linear = nn.Linear(in_features, out_features)\n",
    "\n",
    "    def forward(self, x):\n",
    "        y_pred = self.linear(x)\n",
    "        return y_pred\n"
   ],
   "id": "dfed465cdb793632",
   "outputs": [],
   "execution_count": 107
  },
  {
   "metadata": {
    "ExecuteTime": {
     "end_time": "2025-04-16T21:14:20.867175Z",
     "start_time": "2025-04-16T21:14:20.856031Z"
    }
   },
   "cell_type": "code",
   "source": [
    "torch.manual_seed(59)\n",
    "model = Model(1,1)\n",
    "for name,param in model.named_parameters():\n",
    "    print(name, '\\t', param.item())"
   ],
   "id": "2fe0b360f9037af7",
   "outputs": [
    {
     "name": "stdout",
     "output_type": "stream",
     "text": [
      "linear.weight \t 0.10597813129425049\n",
      "linear.bias \t 0.9637961387634277\n"
     ]
    }
   ],
   "execution_count": 108
  },
  {
   "metadata": {
    "ExecuteTime": {
     "end_time": "2025-04-16T21:14:20.901206Z",
     "start_time": "2025-04-16T21:14:20.894195Z"
    }
   },
   "cell_type": "code",
   "source": [
    "x = torch.tensor([2.0])\n",
    "print(model.forward(x))"
   ],
   "id": "ff135f5e3549cce",
   "outputs": [
    {
     "name": "stdout",
     "output_type": "stream",
     "text": [
      "tensor([1.1758], grad_fn=<ViewBackward0>)\n"
     ]
    }
   ],
   "execution_count": 109
  },
  {
   "metadata": {
    "ExecuteTime": {
     "end_time": "2025-04-16T21:14:20.935248Z",
     "start_time": "2025-04-16T21:14:20.928005Z"
    }
   },
   "cell_type": "code",
   "source": [
    "x1 = np.linspace(0.0, 50.0, 50)\n",
    "x1"
   ],
   "id": "df879ae3389cb73b",
   "outputs": [
    {
     "data": {
      "text/plain": [
       "array([ 0.        ,  1.02040816,  2.04081633,  3.06122449,  4.08163265,\n",
       "        5.10204082,  6.12244898,  7.14285714,  8.16326531,  9.18367347,\n",
       "       10.20408163, 11.2244898 , 12.24489796, 13.26530612, 14.28571429,\n",
       "       15.30612245, 16.32653061, 17.34693878, 18.36734694, 19.3877551 ,\n",
       "       20.40816327, 21.42857143, 22.44897959, 23.46938776, 24.48979592,\n",
       "       25.51020408, 26.53061224, 27.55102041, 28.57142857, 29.59183673,\n",
       "       30.6122449 , 31.63265306, 32.65306122, 33.67346939, 34.69387755,\n",
       "       35.71428571, 36.73469388, 37.75510204, 38.7755102 , 39.79591837,\n",
       "       40.81632653, 41.83673469, 42.85714286, 43.87755102, 44.89795918,\n",
       "       45.91836735, 46.93877551, 47.95918367, 48.97959184, 50.        ])"
      ]
     },
     "execution_count": 110,
     "metadata": {},
     "output_type": "execute_result"
    }
   ],
   "execution_count": 110
  },
  {
   "metadata": {
    "ExecuteTime": {
     "end_time": "2025-04-16T21:14:20.972444Z",
     "start_time": "2025-04-16T21:14:20.963478Z"
    }
   },
   "cell_type": "code",
   "source": [
    "w1 = 0.1059\n",
    "b1 = 0.9637\n",
    "\n",
    "y1 = w1 * x1 + b1\n",
    "y1"
   ],
   "id": "5d415908298d5614",
   "outputs": [
    {
     "data": {
      "text/plain": [
       "array([0.9637    , 1.07176122, 1.17982245, 1.28788367, 1.3959449 ,\n",
       "       1.50400612, 1.61206735, 1.72012857, 1.8281898 , 1.93625102,\n",
       "       2.04431224, 2.15237347, 2.26043469, 2.36849592, 2.47655714,\n",
       "       2.58461837, 2.69267959, 2.80074082, 2.90880204, 3.01686327,\n",
       "       3.12492449, 3.23298571, 3.34104694, 3.44910816, 3.55716939,\n",
       "       3.66523061, 3.77329184, 3.88135306, 3.98941429, 4.09747551,\n",
       "       4.20553673, 4.31359796, 4.42165918, 4.52972041, 4.63778163,\n",
       "       4.74584286, 4.85390408, 4.96196531, 5.07002653, 5.17808776,\n",
       "       5.28614898, 5.3942102 , 5.50227143, 5.61033265, 5.71839388,\n",
       "       5.8264551 , 5.93451633, 6.04257755, 6.15063878, 6.2587    ])"
      ]
     },
     "execution_count": 111,
     "metadata": {},
     "output_type": "execute_result"
    }
   ],
   "execution_count": 111
  },
  {
   "metadata": {
    "ExecuteTime": {
     "end_time": "2025-04-16T21:14:21.157868Z",
     "start_time": "2025-04-16T21:14:21.012977Z"
    }
   },
   "cell_type": "code",
   "source": [
    "plt.scatter(X.numpy(), y.numpy())\n",
    "plt.plot(x1,y1, 'r')"
   ],
   "id": "300f87692bdef85d",
   "outputs": [
    {
     "data": {
      "text/plain": [
       "[<matplotlib.lines.Line2D at 0x24c1a123390>]"
      ]
     },
     "execution_count": 112,
     "metadata": {},
     "output_type": "execute_result"
    },
    {
     "data": {
      "text/plain": [
       "<Figure size 640x480 with 1 Axes>"
      ],
      "image/png": "[encoded data removed]"
     },
     "metadata": {},
     "output_type": "display_data"
    }
   ],
   "execution_count": 112
  },
  {
   "metadata": {
    "ExecuteTime": {
     "end_time": "2025-04-16T21:14:21.198499Z",
     "start_time": "2025-04-16T21:14:21.190302Z"
    }
   },
   "cell_type": "code",
   "source": "model.linear.weight",
   "id": "e2ffe39e1cbf29ba",
   "outputs": [
    {
     "data": {
      "text/plain": [
       "Parameter containing:\n",
       "tensor([[0.1060]], requires_grad=True)"
      ]
     },
     "execution_count": 113,
     "metadata": {},
     "output_type": "execute_result"
    }
   ],
   "execution_count": 113
  },
  {
   "metadata": {
    "ExecuteTime": {
     "end_time": "2025-04-16T21:14:21.230727Z",
     "start_time": "2025-04-16T21:14:21.226449Z"
    }
   },
   "cell_type": "code",
   "source": [
    "# loss function\n",
    "criterion = nn.MSELoss()"
   ],
   "id": "adb42ba452d61bb",
   "outputs": [],
   "execution_count": 114
  },
  {
   "metadata": {
    "ExecuteTime": {
     "end_time": "2025-04-16T21:14:21.265331Z",
     "start_time": "2025-04-16T21:14:21.260326Z"
    }
   },
   "cell_type": "code",
   "source": "optimizer = torch.optim.SGD(model.parameters(), lr=0.01)",
   "id": "f91b86903b5612b6",
   "outputs": [],
   "execution_count": 115
  },
  {
   "metadata": {
    "ExecuteTime": {
     "end_time": "2025-04-16T21:14:21.328999Z",
     "start_time": "2025-04-16T21:14:21.293285Z"
    }
   },
   "cell_type": "code",
   "source": [
    "epochs = 50\n",
    "losses = []\n",
    "\n",
    "for i in range(epochs):\n",
    "    i = i +1\n",
    "    y_pred = model.forward(X)\n",
    "    loss = criterion(y_pred, y)\n",
    "    losses.append(loss)\n",
    "    print(f\"epoch: {i}, loss: {loss.item()}, weight: {model.linear.weight.item()} bias: {model.linear.bias.item()}\")\n",
    "    optimizer.zero_grad()\n",
    "    loss.backward()\n",
    "    optimizer.step()"
   ],
   "id": "c75b9f7ea8c5b4ce",
   "outputs": [
    {
     "name": "stdout",
     "output_type": "stream",
     "text": [
      "epoch: 1, loss: 3057.216796875, weight: 0.10597813129425049 bias: 0.9637961387634277\n",
      "epoch: 2, loss: 795363.8125, weight: 32.395198822021484 bias: 1.930471420288086\n",
      "epoch: 3, loss: 208347296.0, weight: -490.21441650390625 bias: -13.58968734741211\n",
      "epoch: 4, loss: 54578487296.0, weight: 7968.29833984375 bias: 237.73146057128906\n",
      "epoch: 5, loss: 14297331662848.0, weight: -128934.015625 bias: -3829.81494140625\n",
      "epoch: 6, loss: 3745317245681664.0, weight: 2086850.75 bias: 62004.16796875\n",
      "epoch: 7, loss: 9.81119926548824e+17, weight: -33775960.0 bias: -1003528.6875\n",
      "epoch: 8, loss: 2.5701335867524435e+20, weight: 546669120.0 bias: 16242283.0\n",
      "epoch: 9, loss: 6.732699497493946e+22, weight: -8847922176.0 bias: -262883792.0\n",
      "epoch: 10, loss: 1.7636918173815647e+25, weight: 143204958208.0 bias: 4254813696.0\n",
      "epoch: 11, loss: 4.620152631235363e+27, weight: -2317794148352.0 bias: -68864802816.0\n",
      "epoch: 12, loss: 1.2102915280014751e+30, weight: 37513854976000.0 bias: 1114587398144.0\n",
      "epoch: 13, loss: 3.170469472085067e+32, weight: -607167447040000.0 bias: -18039768612864.0\n",
      "epoch: 14, loss: 8.305332295925381e+34, weight: 9827095626645504.0 bias: 291976406630400.0\n",
      "epoch: 15, loss: inf, weight: -1.590530499716055e+17 bias: -4725682185699328.0\n",
      "epoch: 16, loss: inf, weight: 2.5742975692282266e+18 bias: 7.648588570873037e+16\n",
      "epoch: 17, loss: inf, weight: -4.166539500024601e+19 bias: -1.2379354687885804e+18\n",
      "epoch: 18, loss: inf, weight: 6.743606343219009e+20 bias: 2.0036173893566726e+19\n",
      "epoch: 19, loss: inf, weight: -1.0914630197019448e+22 bias: -3.242884817526257e+20\n",
      "epoch: 20, loss: inf, weight: 1.7665495639150337e+23 bias: 5.248658261224068e+21\n",
      "epoch: 21, loss: inf, weight: -2.8591868206586217e+24 bias: -8.49503369215776e+22\n",
      "epoch: 22, loss: inf, weight: 4.627637379196526e+25 bias: 1.3749339782566525e+24\n",
      "epoch: 23, loss: inf, weight: -7.489901243588008e+26 bias: -2.225351333200965e+25\n",
      "epoch: 24, loss: inf, weight: 1.2122520184468384e+28 bias: 3.601764780684582e+26\n",
      "epoch: 25, loss: inf, weight: -1.9620484485133616e+29 bias: -5.829512318270606e+27\n",
      "epoch: 26, loss: inf, weight: 3.175605436269343e+30 bias: 9.435154117565438e+28\n",
      "epoch: 27, loss: inf, weight: -5.139765530623398e+31 bias: -1.5270942413668112e+30\n",
      "epoch: 28, loss: inf, weight: 8.318789168379927e+32 bias: 2.471625385041209e+31\n",
      "epoch: 29, loss: inf, weight: -1.346408716909577e+34 bias: -4.000362617043167e+32\n",
      "epoch: 30, loss: inf, weight: 2.1791828903200303e+35 bias: 6.47464861569959e+33\n",
      "epoch: 31, loss: inf, weight: -inf bias: -1.0479316927467647e+35\n",
      "epoch: 32, loss: nan, weight: nan bias: inf\n",
      "epoch: 33, loss: nan, weight: nan bias: nan\n",
      "epoch: 34, loss: nan, weight: nan bias: nan\n",
      "epoch: 35, loss: nan, weight: nan bias: nan\n",
      "epoch: 36, loss: nan, weight: nan bias: nan\n",
      "epoch: 37, loss: nan, weight: nan bias: nan\n",
      "epoch: 38, loss: nan, weight: nan bias: nan\n",
      "epoch: 39, loss: nan, weight: nan bias: nan\n",
      "epoch: 40, loss: nan, weight: nan bias: nan\n",
      "epoch: 41, loss: nan, weight: nan bias: nan\n",
      "epoch: 42, loss: nan, weight: nan bias: nan\n",
      "epoch: 43, loss: nan, weight: nan bias: nan\n",
      "epoch: 44, loss: nan, weight: nan bias: nan\n",
      "epoch: 45, loss: nan, weight: nan bias: nan\n",
      "epoch: 46, loss: nan, weight: nan bias: nan\n",
      "epoch: 47, loss: nan, weight: nan bias: nan\n",
      "epoch: 48, loss: nan, weight: nan bias: nan\n",
      "epoch: 49, loss: nan, weight: nan bias: nan\n",
      "epoch: 50, loss: nan, weight: nan bias: nan\n"
     ]
    }
   ],
   "execution_count": 116
  },
  {
   "metadata": {
    "ExecuteTime": {
     "end_time": "2025-04-16T21:23:28.047365Z",
     "start_time": "2025-04-16T21:23:27.958427Z"
    }
   },
   "cell_type": "code",
   "source": [
    "losses_numpy = [loss.detach().numpy() for loss in losses]\n",
    "plt.plot(range(epochs), losses_numpy)\n",
    "plt.ylabel('loss')\n",
    "plt.xlabel('epoch')"
   ],
   "id": "603460ce11e3d297",
   "outputs": [
    {
     "data": {
      "text/plain": [
       "Text(0.5, 0, 'epoch')"
      ]
     },
     "execution_count": 119,
     "metadata": {},
     "output_type": "execute_result"
    },
    {
     "data": {
      "text/plain": [
       "<Figure size 640x480 with 1 Axes>"
      ],
      "image/png": "[encoded data removed]"
     },
     "metadata": {},
     "output_type": "display_data"
    }
   ],
   "execution_count": 119
  },
  {
   "metadata": {},
   "cell_type": "code",
   "outputs": [],
   "execution_count": null,
   "source": "",
   "id": "c601594c86530dec"
  }
 ],
 "metadata": {
  "kernelspec": {
   "display_name": "Python 3",
   "language": "python",
   "name": "python3"
  },
  "language_info": {
   "codemirror_mode": {
    "name": "ipython",
    "version": 2
   },
   "file_extension": ".py",
   "mimetype": "text/x-python",
   "name": "python",
   "nbconvert_exporter": "python",
   "pygments_lexer": "ipython2",
   "version": "2.7.6"
  }
 },
 "nbformat": 4,
 "nbformat_minor": 5
}
